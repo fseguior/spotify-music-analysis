{
 "cells": [
  {
   "cell_type": "markdown",
   "metadata": {},
   "source": [
    "## Análisis de Características de Escucha de Canciones para un Usuario en una Plataforma de Streaming de Música Mediante Métodos de Aprendizaje Automático No Supervisado"
   ]
  },
  {
   "cell_type": "code",
   "execution_count": 1,
   "metadata": {},
   "outputs": [
    {
     "name": "stdout",
     "output_type": "stream",
     "text": [
      "                       id  danceability  energy  key  loudness  mode  \\\n",
      "0  3YCcsuRdJArE4rsAG5V3sW         0.767   0.702    4    -5.952     0   \n",
      "1  0Gx4VrHzS7pZOEAGrmXXBH         0.745   0.944    0    -3.959     1   \n",
      "2  05zCw24BdvZKGeC5NXowVe         0.697   0.656    9    -7.062     0   \n",
      "3  1fvUFrI1xldRHB2yopccjn         0.500   0.922    9    -4.468     1   \n",
      "4  5LzZBMRQ8Ui4eu5uGIO4Zh         0.612   0.536    5    -9.658     1   \n",
      "5  1NXvuBAq48QrxRFQZVmORQ         0.439   0.852   11    -8.967     0   \n",
      "6  3BiiSLo0wyHAY7lpCEO6ge         0.501   0.684   11    -6.706     1   \n",
      "7  2Ldb2ytuC9AxhpAkVEJBI6         0.822   0.300    0    -8.034     1   \n",
      "8  0rt63HYAAIzUZo5O2D0uA6         0.471   0.396    8    -6.654     1   \n",
      "9  1i4F583d9v9RabcfOlKKVL         0.485   0.540    1    -5.400     1   \n",
      "\n",
      "   speechiness  acousticness  instrumentalness  liveness  valence    tempo  \n",
      "0       0.0316      0.157000          0.000091    0.0633    0.869  104.619  \n",
      "1       0.1340      0.210000          0.000001    0.3330    0.951  179.991  \n",
      "2       0.0283      0.430000          0.000047    0.2210    0.881  119.632  \n",
      "3       0.0383      0.000353          0.006010    0.0316    0.542  148.768  \n",
      "4       0.0284      0.005340          0.000002    0.2500    0.578  101.768  \n",
      "5       0.1980      0.259000          0.000005    0.3570    0.276   88.487  \n",
      "6       0.0566      0.004940          0.000478    0.0524    0.442  131.952  \n",
      "7       0.0673      0.882000          0.000092    0.0665    0.734  125.951  \n",
      "8       0.0336      0.770000          0.000000    0.0729    0.263  149.609  \n",
      "9       0.0253      0.668000          0.000000    0.0849    0.426   62.631  \n"
     ]
    }
   ],
   "source": [
    "import pandas as pd\n",
    "import numpy as np\n",
    "import matplotlib.pyplot as plt\n",
    "import spotipy as sp\n",
    "\n",
    "featsDF=pd.read_csv(\"/app/data/data.csv\")\n",
    "print(featsDF.head(10))"
   ]
  },
  {
   "cell_type": "code",
   "execution_count": 2,
   "metadata": {},
   "outputs": [],
   "source": [
    "#Dataframe para procesar\n",
    "featsDFData=featsDF.loc[ : ,featsDF.columns != 'id']\n",
    "\n",
    "#Array para PCA y K Mean\n",
    "featsArray=np.array(featsDFData)\n",
    "\n",
    "#Feature Labels\n",
    "featsLabel=[\"danceability\",\"energy\",\"key\",\"loudness\",\"mode\", \"speechiness\", \\\n",
    "            \"acousticness\", \"instrumentalness\", \"liveness\", \"valence\", \"tempo\"]"
   ]
  },
  {
   "cell_type": "markdown",
   "metadata": {},
   "source": [
    "### 1. PCA - Principal Components Analysis\n",
    "La siguiente sección realiza un análisis de componentes principales. En primer lugar se normaliza la muestra y genera el modelo. Luego se muestra la varianza explicada al ir agregando componentes principales. Finalmente se presenta un gráfico biplot con cuales son las variables de entrada con mayor incidencia sobre las dos primeras componentes principales. Estas también se presentan con el nombre de la variable. "
   ]
  },
  {
   "cell_type": "code",
   "execution_count": 3,
   "metadata": {},
   "outputs": [
    {
     "name": "stdout",
     "output_type": "stream",
     "text": [
      "[9.64573958e-01 2.28174365e-02 1.22667964e-02 1.54954643e-04\n",
      " 7.93494770e-05 4.47143822e-05 3.51090090e-05 1.48713133e-05\n",
      " 5.73665065e-06 5.07263170e-06 2.00122623e-06]\n"
     ]
    },
    {
     "data": {
      "image/png": "[encoded data removed]",
      "text/plain": [
       "<Figure size 432x288 with 1 Axes>"
      ]
     },
     "metadata": {
      "needs_background": "light"
     },
     "output_type": "display_data"
    }
   ],
   "source": [
    "from sklearn.decomposition import PCA\n",
    "from sklearn.preprocessing import StandardScaler\n",
    "\n",
    "comp=(1,2,3,4,5,6,7,8,9,10,11)\n",
    "\n",
    "scaler = StandardScaler()\n",
    "scaler.fit(featsArray)\n",
    "X=scaler.transform(featsArray)    \n",
    "pca = PCA(n_components=11, random_state=1)\n",
    "x_new = pca.fit_transform(featsArray)\n",
    "\n",
    "expl_variance=(pca.explained_variance_ratio_)\n",
    "print(expl_variance)\n",
    "\n",
    "plt.scatter(x=comp, y=expl_variance )\n",
    "plt.plot(comp, expl_variance )\n",
    "plt.title(\"Varianza explicada por cada Componente Principal\")\n",
    "plt.show()"
   ]
  },
  {
   "cell_type": "code",
   "execution_count": 4,
   "metadata": {},
   "outputs": [
    {
     "name": "stdout",
     "output_type": "stream",
     "text": [
      "range(0, 11)\n"
     ]
    },
    {
     "data": {
      "image/png": "[encoded data removed]",
      "text/plain": [
       "<Figure size 432x288 with 1 Axes>"
      ]
     },
     "metadata": {
      "needs_background": "light"
     },
     "output_type": "display_data"
    }
   ],
   "source": [
    "## Reference: https://stackoverflow.com/questions/39216897/plot-pca-loadings-and-loading-in-biplot-in-sklearn-like-rs-autoplot\n",
    "\n",
    "\n",
    "def myplot(score,coeff,labels=None):\n",
    "    xs = score[:,0]\n",
    "    ys = score[:,1]\n",
    "    n = coeff.shape[0]\n",
    "    scalex = 1.0/(xs.max() - xs.min())\n",
    "    scaley = 1.0/(ys.max() - ys.min())\n",
    "    plt.scatter(xs * scalex,ys * scaley)#, c = ys)\n",
    "    for i in range(n):\n",
    "        plt.arrow(0, 0, coeff[i,0], coeff[i,1],color = 'r',alpha = 0.5)\n",
    "        if labels is None:\n",
    "            plt.text(coeff[i,0]* 1.15, coeff[i,1] * 1.15, featsLabel[i],\\\n",
    "                     color = 'g', ha = 'center', va = 'center',\\\n",
    "                     backgroundcolor=\"white\")\n",
    "        else:\n",
    "            plt.text(coeff[i,0]* 1.15, coeff[i,1] * 1.15, labels[i], \\\n",
    "                     color = 'g', ha = 'center', va = 'center',\n",
    "                     backgroundcolor=\"white\") \n",
    "    plt.xlim(-1,1)\n",
    "    plt.ylim(-1,1)\n",
    "    plt.xlabel(\"PC{}\".format(1))\n",
    "    plt.ylabel(\"PC{}\".format(2))\n",
    "    plt.grid()\n",
    "    print(range(n))\n",
    "\n",
    "    \n",
    "myplot(x_new[:,0:2],np.transpose(pca.components_[0:2, :]))\n",
    "plt.show()"
   ]
  },
  {
   "cell_type": "code",
   "execution_count": 5,
   "metadata": {},
   "outputs": [
    {
     "name": "stdout",
     "output_type": "stream",
     "text": [
      "La variable con mayor peso en la primera componente principal es 'tempo'\n"
     ]
    }
   ],
   "source": [
    "#PC 1\n",
    "comp_PC1=list(np.absolute(pca.components_[0]))\n",
    "\n",
    "best_comp_PC1=max(comp_PC1)\n",
    "index_PC1=comp_PC1.index(best_comp_PC1)\n",
    "main_comp_PC1=featsLabel[index_PC1]\n",
    "\n",
    "print(\"La variable con mayor peso en la primera \\\n",
    "componente principal es '{}'\".format(main_comp_PC1))"
   ]
  },
  {
   "cell_type": "code",
   "execution_count": 6,
   "metadata": {},
   "outputs": [
    {
     "name": "stdout",
     "output_type": "stream",
     "text": [
      "La variable con mayor peso en la segunda componente principal es 'loudness'\n"
     ]
    }
   ],
   "source": [
    "#PC 2\n",
    "\n",
    "comp_PC2=list(np.absolute(pca.components_[1]))\n",
    "\n",
    "best_comp_PC2=max(comp_PC2)\n",
    "index_PC2=comp_PC2.index(best_comp_PC2)\n",
    "main_comp_PC2=featsLabel[index_PC2]\n",
    "\n",
    "print(\"La variable con mayor peso en la segunda \\\n",
    "componente principal es '{}'\".format(main_comp_PC2))"
   ]
  },
  {
   "cell_type": "markdown",
   "metadata": {},
   "source": [
    "### 2. K Means Clustering"
   ]
  },
  {
   "cell_type": "code",
   "execution_count": 7,
   "metadata": {},
   "outputs": [
    {
     "name": "stdout",
     "output_type": "stream",
     "text": [
      "[2, 3, 4, 5, 6, 7, 8, 9, 10, 11, 12]\n",
      "El mejor número de clusters es = 3, siendo el valor de silhouette 0.5812236273769709)\n"
     ]
    }
   ],
   "source": [
    "from sklearn.cluster import KMeans\n",
    "from sklearn.cluster import AgglomerativeClustering\n",
    "from sklearn.metrics import silhouette_score\n",
    "from matplotlib.colors import ListedColormap\n",
    "\n",
    "## Genero una lista con lo K-num que voy a probar\n",
    "num_of_cluster=[]\n",
    "for x in range(11):\n",
    "    num_of_cluster.append(x+2)\n",
    "print(num_of_cluster)\n",
    "\n",
    "## Itero para los distintos valores de K num\n",
    "result_silhouette_kmeans=[]\n",
    " \n",
    "for knum in num_of_cluster:\n",
    "    kmeans=KMeans(n_clusters=knum, random_state=1)\n",
    "    y=kmeans.fit_predict(featsDFData)\n",
    "    \n",
    "    score_kmeans = silhouette_score(featsDFData, y)\n",
    "    result_silhouette_kmeans.append(score_kmeans)\n",
    "\n",
    "\n",
    "## Buscamos el mejor valor de número de clusters\n",
    "result_silhouette_kmeans \n",
    "best_silhouette_kmeans=max(result_silhouette_kmeans)\n",
    "index_kmeans=result_silhouette_kmeans.index(best_silhouette_kmeans)\n",
    " \n",
    "best_knum=num_of_cluster[index_kmeans]\n",
    " \n",
    "print(\"El mejor número de clusters es = {}, \\\n",
    "siendo el valor de silhouette {})\".format(best_knum, best_silhouette_kmeans))"
   ]
  },
  {
   "cell_type": "code",
   "execution_count": 17,
   "metadata": {
    "scrolled": true
   },
   "outputs": [
    {
     "name": "stdout",
     "output_type": "stream",
     "text": [
      "Centroides de los clusters\n",
      "[[ 6.12842105e-01  5.82894737e-01  5.94736842e+00 -8.03005263e+00\n",
      "   7.36842105e-01  4.61473684e-02  2.95437000e-01  8.15898958e-02\n",
      "   1.26078947e-01  5.29789474e-01  1.29362684e+02]\n",
      " [ 4.81500000e-01  6.61333333e-01  4.83333333e+00 -8.55783333e+00\n",
      "   6.66666667e-01  7.90333333e-02  1.47086667e-01  1.80983575e-01\n",
      "   1.75683333e-01  4.66833333e-01  1.74031500e+02]\n",
      " [ 4.92688000e-01  4.07718800e-01  3.88000000e+00 -1.24931200e+01\n",
      "   8.00000000e-01  6.10920000e-02  4.85456000e-01  2.38731796e-01\n",
      "   1.62268000e-01  4.29636000e-01  8.53042800e+01]]\n"
     ]
    },
    {
     "data": {
      "text/html": [
       "<div>\n",
       "<style scoped>\n",
       "    .dataframe tbody tr th:only-of-type {\n",
       "        vertical-align: middle;\n",
       "    }\n",
       "\n",
       "    .dataframe tbody tr th {\n",
       "        vertical-align: top;\n",
       "    }\n",
       "\n",
       "    .dataframe thead th {\n",
       "        text-align: right;\n",
       "    }\n",
       "</style>\n",
       "<table border=\"1\" class=\"dataframe\">\n",
       "  <thead>\n",
       "    <tr style=\"text-align: right;\">\n",
       "      <th></th>\n",
       "      <th>0</th>\n",
       "      <th>1</th>\n",
       "      <th>2</th>\n",
       "      <th>3</th>\n",
       "      <th>4</th>\n",
       "      <th>5</th>\n",
       "      <th>6</th>\n",
       "      <th>7</th>\n",
       "      <th>8</th>\n",
       "      <th>9</th>\n",
       "      <th>10</th>\n",
       "    </tr>\n",
       "  </thead>\n",
       "  <tbody>\n",
       "    <tr>\n",
       "      <th>0</th>\n",
       "      <td>0.612842</td>\n",
       "      <td>0.582895</td>\n",
       "      <td>5.947368</td>\n",
       "      <td>-8.030053</td>\n",
       "      <td>0.736842</td>\n",
       "      <td>0.046147</td>\n",
       "      <td>0.295437</td>\n",
       "      <td>0.081590</td>\n",
       "      <td>0.126079</td>\n",
       "      <td>0.529789</td>\n",
       "      <td>129.362684</td>\n",
       "    </tr>\n",
       "    <tr>\n",
       "      <th>1</th>\n",
       "      <td>0.481500</td>\n",
       "      <td>0.661333</td>\n",
       "      <td>4.833333</td>\n",
       "      <td>-8.557833</td>\n",
       "      <td>0.666667</td>\n",
       "      <td>0.079033</td>\n",
       "      <td>0.147087</td>\n",
       "      <td>0.180984</td>\n",
       "      <td>0.175683</td>\n",
       "      <td>0.466833</td>\n",
       "      <td>174.031500</td>\n",
       "    </tr>\n",
       "    <tr>\n",
       "      <th>2</th>\n",
       "      <td>0.492688</td>\n",
       "      <td>0.407719</td>\n",
       "      <td>3.880000</td>\n",
       "      <td>-12.493120</td>\n",
       "      <td>0.800000</td>\n",
       "      <td>0.061092</td>\n",
       "      <td>0.485456</td>\n",
       "      <td>0.238732</td>\n",
       "      <td>0.162268</td>\n",
       "      <td>0.429636</td>\n",
       "      <td>85.304280</td>\n",
       "    </tr>\n",
       "  </tbody>\n",
       "</table>\n",
       "</div>"
      ],
      "text/plain": [
       "         0         1         2          3         4         5         6   \\\n",
       "0  0.612842  0.582895  5.947368  -8.030053  0.736842  0.046147  0.295437   \n",
       "1  0.481500  0.661333  4.833333  -8.557833  0.666667  0.079033  0.147087   \n",
       "2  0.492688  0.407719  3.880000 -12.493120  0.800000  0.061092  0.485456   \n",
       "\n",
       "         7         8         9           10  \n",
       "0  0.081590  0.126079  0.529789  129.362684  \n",
       "1  0.180984  0.175683  0.466833  174.031500  \n",
       "2  0.238732  0.162268  0.429636   85.304280  "
      ]
     },
     "execution_count": 17,
     "metadata": {},
     "output_type": "execute_result"
    }
   ],
   "source": [
    "kmeans=KMeans(n_clusters=best_knum)\n",
    "model=kmeans.fit(featsDFData)\n",
    "\n",
    "featsDF[\"clusterLabel\"] = model.labels_\n",
    "\n",
    "kmeans_centroid=model.cluster_centers_\n",
    "\n",
    "print(\"Centroides de los clusters\")\n",
    "print(kmeans_centroid)\n",
    "pd.DataFrame(kmeans_centroid)"
   ]
  },
  {
   "cell_type": "markdown",
   "metadata": {},
   "source": [
    "**Se presentan los agrupamientos utilizando como dimensiones las dos variables con mayor injerencia en las primeras dos componentes principales. Se observa como las observaciones están en dos zonas bien distintas**"
   ]
  },
  {
   "cell_type": "code",
   "execution_count": 18,
   "metadata": {},
   "outputs": [
    {
     "data": {
      "text/plain": [
       "Text(0, 0.5, 'loudness')"
      ]
     },
     "execution_count": 18,
     "metadata": {},
     "output_type": "execute_result"
    },
    {
     "data": {
      "image/png": "[encoded data removed]",
      "text/plain": [
       "<Figure size 432x288 with 1 Axes>"
      ]
     },
     "metadata": {
      "needs_background": "light"
     },
     "output_type": "display_data"
    }
   ],
   "source": [
    "colors=['blue', 'yellow', 'cyan', 'seagreen','peru', 'magenta', 'red']\n",
    "\n",
    "plt.scatter(featsDFData[main_comp_PC1], featsDFData[main_comp_PC2], \\\n",
    "            c=featsDF[\"clusterLabel\"],  cmap=ListedColormap(colors))\n",
    "plt.title(\"{} vs {} - Clusters K Means\".format(main_comp_PC1, main_comp_PC2))\n",
    "plt.xlabel(main_comp_PC1)\n",
    "plt.ylabel(main_comp_PC2)"
   ]
  },
  {
   "cell_type": "markdown",
   "metadata": {},
   "source": [
    "**El usuario puede también analizar los agrupamientos con otras variables. Se observa como las observaciones están más mezcladas que en el caso anterior**"
   ]
  },
  {
   "cell_type": "code",
   "execution_count": 19,
   "metadata": {},
   "outputs": [
    {
     "data": {
      "text/plain": [
       "Text(0, 0.5, 'instrumentalness')"
      ]
     },
     "execution_count": 19,
     "metadata": {},
     "output_type": "execute_result"
    },
    {
     "data": {
      "image/png": "[encoded data removed]",
      "text/plain": [
       "<Figure size 432x288 with 1 Axes>"
      ]
     },
     "metadata": {
      "needs_background": "light"
     },
     "output_type": "display_data"
    }
   ],
   "source": [
    "#Modificar \"var1\" y \"var2\" para comparar los resultados con distintos audio features\n",
    "var1=\"acousticness\"\n",
    "var2=\"instrumentalness\"\n",
    "\n",
    "plt.scatter(featsDFData[var1], featsDFData[var2], \\\n",
    "            c=featsDF[\"clusterLabel\"],  cmap=ListedColormap(colors))\n",
    "plt.title(\"{} vs {} - Clusters K Means\".format(var1, var2))\n",
    "plt.xlabel(var1)\n",
    "plt.ylabel(var2)"
   ]
  },
  {
   "cell_type": "markdown",
   "metadata": {},
   "source": [
    "### 3. Self Organizing Maps"
   ]
  },
  {
   "cell_type": "code",
   "execution_count": 11,
   "metadata": {},
   "outputs": [
    {
     "name": "stdout",
     "output_type": "stream",
     "text": [
      "[2, 3, 4, 5, 6, 7, 8, 9, 10, 11, 12]\n",
      "El mejor matrix dim es = 2, siendo el valor de silhouette 0.5687090095607065)\n"
     ]
    }
   ],
   "source": [
    "from sklearn_som.som import SOM\n",
    "from matplotlib.colors import ListedColormap\n",
    "\n",
    "## Genero una lista con lo matrix_dim que voy a probar\n",
    "matrix_dim=[]\n",
    "for x in range(11):\n",
    "    matrix_dim.append(x+2)\n",
    "print(matrix_dim)\n",
    "\n",
    "## Itero para los distintos valores de matrix_dim\n",
    "result_silhouette_som=[]\n",
    "\n",
    "for mtx in matrix_dim:\n",
    "\n",
    "    spotify_som = SOM(m=mtx, n=1, dim=11, random_state=1)\n",
    "    SOMClassification=spotify_som.fit(featsArray)\n",
    "\n",
    "    y=spotify_som.predict(featsArray)\n",
    "    \n",
    "    score_som = silhouette_score(featsArray, y)\n",
    "    result_silhouette_som.append(score_som)\n",
    "\n",
    "## Buscamos el mejor valor\n",
    "result_silhouette_som\n",
    "best_silhouette_som=max(result_silhouette_som)\n",
    "\n",
    "index_som=result_silhouette_som.index(best_silhouette_som)\n",
    "best_som=num_of_cluster[index_som]\n",
    "\n",
    "print(\"El mejor matrix dim es = {}, siendo el \\\n",
    "valor de silhouette {})\".format(best_som, best_silhouette_som))"
   ]
  },
  {
   "cell_type": "code",
   "execution_count": 12,
   "metadata": {
    "scrolled": true
   },
   "outputs": [
    {
     "name": "stdout",
     "output_type": "stream",
     "text": [
      "2\n"
     ]
    }
   ],
   "source": [
    "print(best_som)\n",
    "spotify_som = SOM(m=best_som, n=1, dim=11, random_state=1)\n",
    "SOMClassification=spotify_som.fit(featsArray)\n",
    "SOMClass=spotify_som.predict(featsArray)"
   ]
  },
  {
   "cell_type": "code",
   "execution_count": 33,
   "metadata": {},
   "outputs": [
    {
     "name": "stdout",
     "output_type": "stream",
     "text": [
      "Centorides\n",
      "[[[ 5.77862747e-01  5.50478067e-01  6.28762979e+00 -8.76949678e+00\n",
      "    6.60427541e-01  5.16802861e-02  3.63290050e-01  1.12261980e-01\n",
      "    1.47745125e-01  4.91040411e-01  1.22636046e+02]]\n",
      "\n",
      " [[ 5.15159066e-01  5.30868030e-01  5.41322538e+00 -1.05108393e+01\n",
      "    6.40580209e-01  6.70985229e-02  4.23887513e-01  2.39273321e-01\n",
      "    1.90910196e-01  4.88778140e-01  9.92479968e+01]]]\n"
     ]
    },
    {
     "data": {
      "text/plain": [
       "numpy.ndarray"
      ]
     },
     "execution_count": 33,
     "metadata": {},
     "output_type": "execute_result"
    }
   ],
   "source": [
    "som_centroid=spotify_som.cluster_centers_\n",
    "\n",
    "print(\"Centorides\")\n",
    "print(som_centroid)\n",
    "\n",
    "type(som_centroid)\n"
   ]
  },
  {
   "cell_type": "markdown",
   "metadata": {},
   "source": [
    "**Se presentan los agrupamientos utilizando como dimensiones las dos variables con mayor injerencia en las primeras dos componentes principales. Se observa como las observaciones están en dos zonas bien distintas. El resultado con SOM es similar al de K-Means**"
   ]
  },
  {
   "cell_type": "code",
   "execution_count": 22,
   "metadata": {},
   "outputs": [
    {
     "data": {
      "text/plain": [
       "Text(0, 0.5, 'loudness')"
      ]
     },
     "execution_count": 22,
     "metadata": {},
     "output_type": "execute_result"
    },
    {
     "data": {
      "image/png": "[encoded data removed]",
      "text/plain": [
       "<Figure size 432x288 with 1 Axes>"
      ]
     },
     "metadata": {
      "needs_background": "light"
     },
     "output_type": "display_data"
    }
   ],
   "source": [
    "plt.scatter(featsArray[0:,index_PC1], featsArray[0:,index_PC2],\\\n",
    "            c=SOMClass, cmap=ListedColormap(colors))\n",
    "plt.title(\"{} vs {} - SOM\".format(main_comp_PC1, main_comp_PC2))\n",
    "plt.xlabel(main_comp_PC1)\n",
    "plt.ylabel(main_comp_PC2)"
   ]
  },
  {
   "cell_type": "markdown",
   "metadata": {},
   "source": [
    "**El usuario puede también analizar los agrupamientos con otras variables. Se observa como las observaciones están más mezcladas que en el caso anterior. El resultado con SOM es similar al de K-Means**"
   ]
  },
  {
   "cell_type": "code",
   "execution_count": 23,
   "metadata": {},
   "outputs": [
    {
     "data": {
      "text/plain": [
       "Text(0, 0.5, 'instrumentalness')"
      ]
     },
     "execution_count": 23,
     "metadata": {},
     "output_type": "execute_result"
    },
    {
     "data": {
      "image/png": "[encoded data removed]",
      "text/plain": [
       "<Figure size 432x288 with 1 Axes>"
      ]
     },
     "metadata": {
      "needs_background": "light"
     },
     "output_type": "display_data"
    }
   ],
   "source": [
    "#Modificar \"var1\" y \"var2\" para comparar los resultados con distintos audio features\n",
    "var1=\"acousticness\"\n",
    "var2=\"instrumentalness\"\n",
    "\n",
    "plt.scatter(featsArray[0:,featsLabel.index(var1)], \\\n",
    "            featsArray[0:,featsLabel.index(var2)], \\\n",
    "            c=-SOMClass, cmap=ListedColormap(colors))\n",
    "plt.title(\"{} vs {} - SOM\".format(var1, var2))\n",
    "plt.xlabel(var1)\n",
    "plt.ylabel(var2)"
   ]
  },
  {
   "cell_type": "markdown",
   "metadata": {},
   "source": [
    "### 4. Comparación K-Means vs SOM"
   ]
  },
  {
   "cell_type": "code",
   "execution_count": 16,
   "metadata": {},
   "outputs": [
    {
     "name": "stdout",
     "output_type": "stream",
     "text": [
      "El mejor algoritmo es K-Means, con un número de cluster = 3,     y un valor de silhouette 0.5812236273769709\n"
     ]
    }
   ],
   "source": [
    "if (best_silhouette_kmeans > best_silhouette_som):\n",
    "    print(\"El mejor algoritmo es K-Means, con un número de cluster = {}, \\\n",
    "    y un valor de silhouette {}\".format(best_knum, best_silhouette_kmeans))\n",
    "\n",
    "elif (best_silhouette_kmeans < best_silhouette_som):\n",
    "    print(\"El mejor algoritmo es SOM, con un matrix dim = {}, \\\n",
    "    y un valor de silhouette {}\".format(best_som, best_silhouette_som))\n",
    "\n",
    "else:\n",
    "    print(\"K-Means y SOM generan agrupamientos con igual coeficiente \\\n",
    "    silhouette de {}. El número de clusters en K-Means es {}, \\\n",
    "    y el matrix dim en SOM es {}\".format(best_silhouette_kmeans, best_knum, best_som))"
   ]
  }
 ],
 "metadata": {
  "kernelspec": {
   "display_name": "Python 3 (ipykernel)",
   "language": "python",
   "name": "python3"
  },
  "language_info": {
   "codemirror_mode": {
    "name": "ipython",
    "version": 3
   },
   "file_extension": ".py",
   "mimetype": "text/x-python",
   "name": "python",
   "nbconvert_exporter": "python",
   "pygments_lexer": "ipython3",
   "version": "3.9.7"
  }
 },
 "nbformat": 4,
 "nbformat_minor": 2
}
