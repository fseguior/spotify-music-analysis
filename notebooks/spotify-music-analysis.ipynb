{
 "cells": [
  {
   "cell_type": "code",
   "execution_count": 1,
   "metadata": {},
   "outputs": [],
   "source": [
    "import pandas as pd\n",
    "import numpy as np\n",
    "import matplotlib.pyplot as plt\n",
    "import spotipy as sp\n"
   ]
  },
  {
   "cell_type": "code",
   "execution_count": 2,
   "metadata": {},
   "outputs": [
    {
     "data": {
      "text/html": [
       "<div>\n",
       "<style scoped>\n",
       "    .dataframe tbody tr th:only-of-type {\n",
       "        vertical-align: middle;\n",
       "    }\n",
       "\n",
       "    .dataframe tbody tr th {\n",
       "        vertical-align: top;\n",
       "    }\n",
       "\n",
       "    .dataframe thead th {\n",
       "        text-align: right;\n",
       "    }\n",
       "</style>\n",
       "<table border=\"1\" class=\"dataframe\">\n",
       "  <thead>\n",
       "    <tr style=\"text-align: right;\">\n",
       "      <th></th>\n",
       "      <th>id</th>\n",
       "      <th>danceability</th>\n",
       "      <th>energy</th>\n",
       "      <th>key</th>\n",
       "      <th>loudness</th>\n",
       "      <th>mode</th>\n",
       "      <th>speechiness</th>\n",
       "      <th>acousticness</th>\n",
       "      <th>instrumentalness</th>\n",
       "      <th>liveness</th>\n",
       "      <th>valence</th>\n",
       "      <th>tempo</th>\n",
       "    </tr>\n",
       "  </thead>\n",
       "  <tbody>\n",
       "    <tr>\n",
       "      <th>0</th>\n",
       "      <td>6pCBRjjwhfyafZQPWx8KPK</td>\n",
       "      <td>0.670</td>\n",
       "      <td>0.567</td>\n",
       "      <td>2</td>\n",
       "      <td>-9.732</td>\n",
       "      <td>1</td>\n",
       "      <td>0.0357</td>\n",
       "      <td>0.32800</td>\n",
       "      <td>0.015000</td>\n",
       "      <td>0.0873</td>\n",
       "      <td>0.4340</td>\n",
       "      <td>139.995</td>\n",
       "    </tr>\n",
       "    <tr>\n",
       "      <th>1</th>\n",
       "      <td>6NXKNt6jyg6vPUa8rKS7BA</td>\n",
       "      <td>0.503</td>\n",
       "      <td>0.598</td>\n",
       "      <td>2</td>\n",
       "      <td>-8.273</td>\n",
       "      <td>1</td>\n",
       "      <td>0.0362</td>\n",
       "      <td>0.12800</td>\n",
       "      <td>0.098300</td>\n",
       "      <td>0.1060</td>\n",
       "      <td>0.1960</td>\n",
       "      <td>162.905</td>\n",
       "    </tr>\n",
       "    <tr>\n",
       "      <th>2</th>\n",
       "      <td>4O7kxdfjLOFUwIB6Q63ScX</td>\n",
       "      <td>0.468</td>\n",
       "      <td>0.182</td>\n",
       "      <td>0</td>\n",
       "      <td>-15.562</td>\n",
       "      <td>1</td>\n",
       "      <td>0.0401</td>\n",
       "      <td>0.83700</td>\n",
       "      <td>0.013200</td>\n",
       "      <td>0.0678</td>\n",
       "      <td>0.0382</td>\n",
       "      <td>155.102</td>\n",
       "    </tr>\n",
       "    <tr>\n",
       "      <th>3</th>\n",
       "      <td>12vSf3woc2toFvHxwjLI5v</td>\n",
       "      <td>0.465</td>\n",
       "      <td>0.267</td>\n",
       "      <td>0</td>\n",
       "      <td>-14.264</td>\n",
       "      <td>1</td>\n",
       "      <td>0.0315</td>\n",
       "      <td>0.73400</td>\n",
       "      <td>0.678000</td>\n",
       "      <td>0.2050</td>\n",
       "      <td>0.0757</td>\n",
       "      <td>132.002</td>\n",
       "    </tr>\n",
       "    <tr>\n",
       "      <th>4</th>\n",
       "      <td>7HFgnF1oPMzkCqEMBOA2yI</td>\n",
       "      <td>0.445</td>\n",
       "      <td>0.773</td>\n",
       "      <td>2</td>\n",
       "      <td>-7.227</td>\n",
       "      <td>1</td>\n",
       "      <td>0.0441</td>\n",
       "      <td>0.00539</td>\n",
       "      <td>0.153000</td>\n",
       "      <td>0.1310</td>\n",
       "      <td>0.3130</td>\n",
       "      <td>191.966</td>\n",
       "    </tr>\n",
       "    <tr>\n",
       "      <th>5</th>\n",
       "      <td>7HFgnF1oPMzkCqEMBOA2yI</td>\n",
       "      <td>0.445</td>\n",
       "      <td>0.773</td>\n",
       "      <td>2</td>\n",
       "      <td>-7.227</td>\n",
       "      <td>1</td>\n",
       "      <td>0.0441</td>\n",
       "      <td>0.00539</td>\n",
       "      <td>0.153000</td>\n",
       "      <td>0.1310</td>\n",
       "      <td>0.3130</td>\n",
       "      <td>191.966</td>\n",
       "    </tr>\n",
       "    <tr>\n",
       "      <th>6</th>\n",
       "      <td>47DKI4RxI8ZW0sBqDenMhO</td>\n",
       "      <td>0.592</td>\n",
       "      <td>0.555</td>\n",
       "      <td>1</td>\n",
       "      <td>-10.499</td>\n",
       "      <td>0</td>\n",
       "      <td>0.0381</td>\n",
       "      <td>0.66200</td>\n",
       "      <td>0.452000</td>\n",
       "      <td>0.1110</td>\n",
       "      <td>0.1420</td>\n",
       "      <td>156.957</td>\n",
       "    </tr>\n",
       "    <tr>\n",
       "      <th>7</th>\n",
       "      <td>3W3RQneS2yhA7E5l1dJW18</td>\n",
       "      <td>0.553</td>\n",
       "      <td>0.711</td>\n",
       "      <td>7</td>\n",
       "      <td>-7.714</td>\n",
       "      <td>1</td>\n",
       "      <td>0.0453</td>\n",
       "      <td>0.06300</td>\n",
       "      <td>0.000008</td>\n",
       "      <td>0.0759</td>\n",
       "      <td>0.2990</td>\n",
       "      <td>99.997</td>\n",
       "    </tr>\n",
       "    <tr>\n",
       "      <th>8</th>\n",
       "      <td>3T7hn54qWtZIEpJK2XeClP</td>\n",
       "      <td>0.331</td>\n",
       "      <td>0.523</td>\n",
       "      <td>5</td>\n",
       "      <td>-8.321</td>\n",
       "      <td>1</td>\n",
       "      <td>0.0375</td>\n",
       "      <td>0.22700</td>\n",
       "      <td>0.001140</td>\n",
       "      <td>0.1440</td>\n",
       "      <td>0.3050</td>\n",
       "      <td>87.782</td>\n",
       "    </tr>\n",
       "    <tr>\n",
       "      <th>9</th>\n",
       "      <td>7ac29SFNW0dM6o394uh3P3</td>\n",
       "      <td>0.580</td>\n",
       "      <td>0.559</td>\n",
       "      <td>4</td>\n",
       "      <td>-9.293</td>\n",
       "      <td>0</td>\n",
       "      <td>0.0640</td>\n",
       "      <td>0.79700</td>\n",
       "      <td>0.001210</td>\n",
       "      <td>0.1240</td>\n",
       "      <td>0.6470</td>\n",
       "      <td>162.936</td>\n",
       "    </tr>\n",
       "  </tbody>\n",
       "</table>\n",
       "</div>"
      ],
      "text/plain": [
       "                       id  danceability  energy  key  loudness  mode  \\\n",
       "0  6pCBRjjwhfyafZQPWx8KPK         0.670   0.567    2    -9.732     1   \n",
       "1  6NXKNt6jyg6vPUa8rKS7BA         0.503   0.598    2    -8.273     1   \n",
       "2  4O7kxdfjLOFUwIB6Q63ScX         0.468   0.182    0   -15.562     1   \n",
       "3  12vSf3woc2toFvHxwjLI5v         0.465   0.267    0   -14.264     1   \n",
       "4  7HFgnF1oPMzkCqEMBOA2yI         0.445   0.773    2    -7.227     1   \n",
       "5  7HFgnF1oPMzkCqEMBOA2yI         0.445   0.773    2    -7.227     1   \n",
       "6  47DKI4RxI8ZW0sBqDenMhO         0.592   0.555    1   -10.499     0   \n",
       "7  3W3RQneS2yhA7E5l1dJW18         0.553   0.711    7    -7.714     1   \n",
       "8  3T7hn54qWtZIEpJK2XeClP         0.331   0.523    5    -8.321     1   \n",
       "9  7ac29SFNW0dM6o394uh3P3         0.580   0.559    4    -9.293     0   \n",
       "\n",
       "   speechiness  acousticness  instrumentalness  liveness  valence    tempo  \n",
       "0       0.0357       0.32800          0.015000    0.0873   0.4340  139.995  \n",
       "1       0.0362       0.12800          0.098300    0.1060   0.1960  162.905  \n",
       "2       0.0401       0.83700          0.013200    0.0678   0.0382  155.102  \n",
       "3       0.0315       0.73400          0.678000    0.2050   0.0757  132.002  \n",
       "4       0.0441       0.00539          0.153000    0.1310   0.3130  191.966  \n",
       "5       0.0441       0.00539          0.153000    0.1310   0.3130  191.966  \n",
       "6       0.0381       0.66200          0.452000    0.1110   0.1420  156.957  \n",
       "7       0.0453       0.06300          0.000008    0.0759   0.2990   99.997  \n",
       "8       0.0375       0.22700          0.001140    0.1440   0.3050   87.782  \n",
       "9       0.0640       0.79700          0.001210    0.1240   0.6470  162.936  "
      ]
     },
     "execution_count": 2,
     "metadata": {},
     "output_type": "execute_result"
    }
   ],
   "source": [
    "featsDF=pd.read_csv(\"/app/data/data.csv\")\n",
    "\n",
    "featsDF.head(10)"
   ]
  },
  {
   "cell_type": "markdown",
   "metadata": {},
   "source": [
    "### K Means Clustering"
   ]
  },
  {
   "cell_type": "code",
   "execution_count": 3,
   "metadata": {},
   "outputs": [
    {
     "name": "stdout",
     "output_type": "stream",
     "text": [
      "Centroides de los clusters\n",
      "[[ 6.14250000e-01  4.86583333e-01  4.58333333e+00 -1.16082500e+01\n",
      "   7.50000000e-01  4.98083333e-02  4.00910000e-01  1.08226517e-02\n",
      "   1.28608333e-01  4.34416667e-01  9.53585833e+01]\n",
      " [ 5.05800000e-01  5.77700000e-01  4.30000000e+00 -9.72660000e+00\n",
      "   7.00000000e-01  6.79100000e-02  3.03618000e-01  1.03810800e-01\n",
      "   1.30890000e-01  5.22200000e-01  1.76509400e+02]\n",
      " [ 5.91000000e-01  5.63466667e-01  4.60000000e+00 -1.06820667e+01\n",
      "   8.00000000e-01  5.64466667e-02  2.45660000e-01  6.80036473e-02\n",
      "   1.33806667e-01  5.70513333e-01  1.21233200e+02]\n",
      " [ 5.79769231e-01  3.23384615e-01  5.15384615e+00 -1.33003077e+01\n",
      "   8.46153846e-01  7.43615385e-02  6.68615385e-01  3.85639454e-02\n",
      "   1.05184615e-01  3.32561538e-01  1.44988615e+02]]\n"
     ]
    }
   ],
   "source": [
    "from sklearn.cluster import KMeans\n",
    "from sklearn.cluster import AgglomerativeClustering\n",
    "\n",
    "featsDFData=featsDF.loc[ : ,featsDF.columns != 'id']\n",
    "\n",
    "kmeans=KMeans(n_clusters=4)\n",
    "model=kmeans.fit(featsDFData)\n",
    "\n",
    "featsDF[\"clusterLabel\"] = model.labels_\n",
    "print(\"Centroides de los clusters\")\n",
    "print(model.cluster_centers_)\n"
   ]
  },
  {
   "cell_type": "code",
   "execution_count": 4,
   "metadata": {},
   "outputs": [
    {
     "data": {
      "text/plain": [
       "Text(0.5, 1.0, 'Acousticness vs Instrumentalness - Clusters K Means')"
      ]
     },
     "execution_count": 4,
     "metadata": {},
     "output_type": "execute_result"
    },
    {
     "data": {
      "image/png": "[encoded data removed]",
      "text/plain": [
       "<Figure size 432x288 with 1 Axes>"
      ]
     },
     "metadata": {
      "needs_background": "light"
     },
     "output_type": "display_data"
    }
   ],
   "source": [
    "plt.scatter(featsDFData[\"acousticness\"], featsDFData[\"instrumentalness\"], c=featsDF[\"clusterLabel\"])\n",
    "plt.title(\"Acousticness vs Instrumentalness - Clusters K Means\")"
   ]
  },
  {
   "cell_type": "markdown",
   "metadata": {},
   "source": [
    "### Self Organizing Maps"
   ]
  },
  {
   "cell_type": "code",
   "execution_count": 5,
   "metadata": {},
   "outputs": [
    {
     "data": {
      "text/plain": [
       "array([[ 6.70000e-01,  5.67000e-01,  2.00000e+00, -9.73200e+00,\n",
       "         1.00000e+00,  3.57000e-02,  3.28000e-01,  1.50000e-02,\n",
       "         8.73000e-02,  4.34000e-01,  1.39995e+02],\n",
       "       [ 5.03000e-01,  5.98000e-01,  2.00000e+00, -8.27300e+00,\n",
       "         1.00000e+00,  3.62000e-02,  1.28000e-01,  9.83000e-02,\n",
       "         1.06000e-01,  1.96000e-01,  1.62905e+02],\n",
       "       [ 4.68000e-01,  1.82000e-01,  0.00000e+00, -1.55620e+01,\n",
       "         1.00000e+00,  4.01000e-02,  8.37000e-01,  1.32000e-02,\n",
       "         6.78000e-02,  3.82000e-02,  1.55102e+02],\n",
       "       [ 4.65000e-01,  2.67000e-01,  0.00000e+00, -1.42640e+01,\n",
       "         1.00000e+00,  3.15000e-02,  7.34000e-01,  6.78000e-01,\n",
       "         2.05000e-01,  7.57000e-02,  1.32002e+02],\n",
       "       [ 4.45000e-01,  7.73000e-01,  2.00000e+00, -7.22700e+00,\n",
       "         1.00000e+00,  4.41000e-02,  5.39000e-03,  1.53000e-01,\n",
       "         1.31000e-01,  3.13000e-01,  1.91966e+02],\n",
       "       [ 4.45000e-01,  7.73000e-01,  2.00000e+00, -7.22700e+00,\n",
       "         1.00000e+00,  4.41000e-02,  5.39000e-03,  1.53000e-01,\n",
       "         1.31000e-01,  3.13000e-01,  1.91966e+02],\n",
       "       [ 5.92000e-01,  5.55000e-01,  1.00000e+00, -1.04990e+01,\n",
       "         0.00000e+00,  3.81000e-02,  6.62000e-01,  4.52000e-01,\n",
       "         1.11000e-01,  1.42000e-01,  1.56957e+02],\n",
       "       [ 5.53000e-01,  7.11000e-01,  7.00000e+00, -7.71400e+00,\n",
       "         1.00000e+00,  4.53000e-02,  6.30000e-02,  8.41000e-06,\n",
       "         7.59000e-02,  2.99000e-01,  9.99970e+01],\n",
       "       [ 3.31000e-01,  5.23000e-01,  5.00000e+00, -8.32100e+00,\n",
       "         1.00000e+00,  3.75000e-02,  2.27000e-01,  1.14000e-03,\n",
       "         1.44000e-01,  3.05000e-01,  8.77820e+01],\n",
       "       [ 5.80000e-01,  5.59000e-01,  4.00000e+00, -9.29300e+00,\n",
       "         0.00000e+00,  6.40000e-02,  7.97000e-01,  1.21000e-03,\n",
       "         1.24000e-01,  6.47000e-01,  1.62936e+02],\n",
       "       [ 6.87000e-01,  3.67000e-01,  1.00000e+00, -1.05010e+01,\n",
       "         0.00000e+00,  3.49000e-02,  7.57000e-01,  3.04000e-05,\n",
       "         8.38000e-02,  4.22000e-01,  9.40060e+01],\n",
       "       [ 6.64000e-01,  4.68000e-01,  4.00000e+00, -1.50250e+01,\n",
       "         0.00000e+00,  1.87000e-01,  5.85000e-01,  3.56000e-04,\n",
       "         7.81000e-02,  6.60000e-01,  1.51514e+02],\n",
       "       [ 5.83000e-01,  2.42000e-01,  7.00000e+00, -1.38630e+01,\n",
       "         1.00000e+00,  5.87000e-02,  7.38000e-01,  1.26000e-04,\n",
       "         7.77000e-02,  3.18000e-01,  1.41127e+02],\n",
       "       [ 5.83000e-01,  2.42000e-01,  7.00000e+00, -1.38630e+01,\n",
       "         1.00000e+00,  5.87000e-02,  7.38000e-01,  1.26000e-04,\n",
       "         7.77000e-02,  3.18000e-01,  1.41127e+02],\n",
       "       [ 6.58000e-01,  4.50000e-01,  7.00000e+00, -1.33110e+01,\n",
       "         1.00000e+00,  1.93000e-01,  6.04000e-01,  2.44000e-04,\n",
       "         1.87000e-01,  7.99000e-01,  1.43714e+02],\n",
       "       [ 6.83000e-01,  3.76000e-01,  4.00000e+00, -1.36120e+01,\n",
       "         1.00000e+00,  5.74000e-02,  8.57000e-01,  6.67000e-03,\n",
       "         1.25000e-01,  4.14000e-01,  1.16022e+02],\n",
       "       [ 5.11000e-01,  3.18000e-01,  1.00000e+01, -1.31540e+01,\n",
       "         1.00000e+00,  2.01000e-01,  7.59000e-01,  2.09000e-04,\n",
       "         6.40000e-02,  3.80000e-01,  1.75092e+02],\n",
       "       [ 4.63000e-01,  1.50000e-01,  4.00000e+00, -1.48880e+01,\n",
       "         0.00000e+00,  4.23000e-02,  9.08000e-01,  1.60000e-05,\n",
       "         8.54000e-02,  3.36000e-01,  1.69001e+02],\n",
       "       [ 4.85000e-01,  2.07000e-01,  4.00000e+00, -1.25260e+01,\n",
       "         1.00000e+00,  4.16000e-02,  8.37000e-01,  5.82000e-04,\n",
       "         1.12000e-01,  2.09000e-01,  1.44486e+02],\n",
       "       [ 6.18000e-01,  3.02000e-01,  7.00000e+00, -1.74990e+01,\n",
       "         1.00000e+00,  1.67000e-01,  5.87000e-01,  1.10000e-01,\n",
       "         1.08000e-01,  1.15000e-01,  8.43520e+01],\n",
       "       [ 5.95000e-01,  7.56000e-01,  3.00000e+00, -7.94900e+00,\n",
       "         0.00000e+00,  4.34000e-02,  7.59000e-01,  1.05000e-02,\n",
       "         4.50000e-01,  5.47000e-01,  1.06777e+02],\n",
       "       [ 5.93000e-01,  3.27000e-01,  6.00000e+00, -1.24890e+01,\n",
       "         1.00000e+00,  7.29000e-02,  7.66000e-01,  6.02000e-05,\n",
       "         9.95000e-02,  3.30000e-01,  1.43143e+02],\n",
       "       [ 5.50000e-01,  1.63000e-01,  1.10000e+01, -1.72040e+01,\n",
       "         1.00000e+00,  5.33000e-02,  2.94000e-01,  4.92000e-03,\n",
       "         1.02000e-01,  7.71000e-02,  1.38605e+02],\n",
       "       [ 6.26000e-01,  4.27000e-01,  4.00000e+00, -1.07200e+01,\n",
       "         0.00000e+00,  5.96000e-02,  9.08000e-01,  5.71000e-06,\n",
       "         1.64000e-01,  5.63000e-01,  1.16917e+02],\n",
       "       [ 5.46000e-01,  2.85000e-01,  6.00000e+00, -1.27630e+01,\n",
       "         1.00000e+00,  4.38000e-02,  7.73000e-01,  4.09000e-06,\n",
       "         8.63000e-02,  3.32000e-01,  1.41402e+02],\n",
       "       [ 7.28000e-01,  6.21000e-01,  6.00000e+00, -1.19220e+01,\n",
       "         1.00000e+00,  1.69000e-01,  1.79000e-01,  1.12000e-04,\n",
       "         6.27000e-02,  4.90000e-01,  1.16300e+02],\n",
       "       [ 5.59000e-01,  2.20000e-01,  8.00000e+00, -1.31950e+01,\n",
       "         1.00000e+00,  5.07000e-02,  7.23000e-01,  1.13000e-04,\n",
       "         1.71000e-01,  3.23000e-01,  1.42351e+02],\n",
       "       [ 5.86000e-01,  2.96000e-01,  4.00000e+00, -1.28720e+01,\n",
       "         1.00000e+00,  9.31000e-02,  8.07000e-01,  1.46000e-02,\n",
       "         1.10000e-01,  3.43000e-01,  1.45329e+02],\n",
       "       [ 5.57000e-01,  1.58000e-01,  0.00000e+00, -1.59040e+01,\n",
       "         1.00000e+00,  4.38000e-02,  6.50000e-01,  1.56000e-03,\n",
       "         9.87000e-02,  1.85000e-01,  9.60850e+01],\n",
       "       [ 5.63000e-01,  7.05000e-01,  2.00000e+00, -9.23200e+00,\n",
       "         1.00000e+00,  1.03000e-01,  1.03000e-02,  0.00000e+00,\n",
       "         5.52000e-02,  8.22000e-01,  1.76732e+02],\n",
       "       [ 4.92000e-01,  7.55000e-01,  9.00000e+00, -9.27300e+00,\n",
       "         1.00000e+00,  3.31000e-02,  7.48000e-03,  0.00000e+00,\n",
       "         1.02000e-01,  7.96000e-01,  1.27387e+02],\n",
       "       [ 5.52000e-01,  4.87000e-01,  6.00000e+00, -1.05740e+01,\n",
       "         0.00000e+00,  4.00000e-02,  1.75000e-02,  0.00000e+00,\n",
       "         1.05000e-01,  6.57000e-01,  1.27201e+02],\n",
       "       [ 6.88000e-01,  4.35000e-01,  9.00000e+00, -1.13590e+01,\n",
       "         1.00000e+00,  3.23000e-02,  4.49000e-01,  0.00000e+00,\n",
       "         1.13000e-01,  4.35000e-01,  1.03239e+02],\n",
       "       [ 6.67000e-01,  4.98000e-01,  1.00000e+00, -1.10270e+01,\n",
       "         1.00000e+00,  3.64000e-02,  7.72000e-03,  0.00000e+00,\n",
       "         4.81000e-02,  7.74000e-01,  8.58430e+01],\n",
       "       [ 6.99000e-01,  2.94000e-01,  5.00000e+00, -1.32050e+01,\n",
       "         0.00000e+00,  2.94000e-02,  5.87000e-01,  0.00000e+00,\n",
       "         1.17000e-01,  8.93000e-01,  9.66150e+01],\n",
       "       [ 6.70000e-01,  7.76000e-01,  4.00000e+00, -1.00350e+01,\n",
       "         1.00000e+00,  7.49000e-02,  1.68000e-02,  3.01000e-06,\n",
       "         7.32000e-02,  7.65000e-01,  9.69300e+01],\n",
       "       [ 5.78000e-01,  2.90000e-01,  5.00000e+00, -1.25010e+01,\n",
       "         0.00000e+00,  3.41000e-02,  6.52000e-01,  0.00000e+00,\n",
       "         1.05000e-01,  6.66000e-01,  1.17403e+02],\n",
       "       [ 5.90000e-01,  6.41000e-01,  0.00000e+00, -9.68700e+00,\n",
       "         1.00000e+00,  4.16000e-02,  6.82000e-03,  0.00000e+00,\n",
       "         5.53000e-02,  7.92000e-01,  1.20773e+02],\n",
       "       [ 5.29000e-01,  5.67000e-01,  0.00000e+00, -9.79600e+00,\n",
       "         1.00000e+00,  2.82000e-02,  1.24000e-02,  0.00000e+00,\n",
       "         7.29000e-02,  7.99000e-01,  1.30544e+02],\n",
       "       [ 5.34000e-01,  6.24000e-01,  4.00000e+00, -9.58900e+00,\n",
       "         1.00000e+00,  4.62000e-02,  7.97000e-03,  0.00000e+00,\n",
       "         1.28000e-01,  6.87000e-01,  1.21402e+02],\n",
       "       [ 4.88000e-01,  5.39000e-01,  9.00000e+00, -8.75200e+00,\n",
       "         1.00000e+00,  3.04000e-02,  1.36000e-01,  0.00000e+00,\n",
       "         5.38000e-02,  4.73000e-01,  1.15941e+02],\n",
       "       [ 4.25000e-01,  3.69000e-01,  4.00000e+00, -1.18760e+01,\n",
       "         1.00000e+00,  3.79000e-02,  1.83000e-01,  1.26000e-03,\n",
       "         1.12000e-01,  6.50000e-01,  1.76625e+02],\n",
       "       [ 7.54000e-01,  5.71000e-01,  2.00000e+00, -8.54700e+00,\n",
       "         1.00000e+00,  4.21000e-02,  1.73000e-02,  0.00000e+00,\n",
       "         3.00000e-01,  8.20000e-01,  1.22463e+02],\n",
       "       [ 7.12000e-01,  6.90000e-01,  9.00000e+00, -1.05120e+01,\n",
       "         1.00000e+00,  8.04000e-02,  4.80000e-02,  3.03000e-01,\n",
       "         1.19000e-01,  4.63000e-01,  1.18388e+02],\n",
       "       [ 7.64000e-01,  6.41000e-01,  2.00000e+00, -1.15380e+01,\n",
       "         1.00000e+00,  7.10000e-02,  1.01000e-01,  3.67000e-04,\n",
       "         8.24000e-02,  5.81000e-01,  1.18728e+02],\n",
       "       [ 7.44000e-01,  5.49000e-01,  4.00000e+00, -1.41250e+01,\n",
       "         1.00000e+00,  2.71000e-02,  7.84000e-02,  2.37000e-03,\n",
       "         8.86000e-02,  3.51000e-01,  9.70820e+01],\n",
       "       [ 4.39000e-01,  9.08000e-01,  2.00000e+00, -8.18200e+00,\n",
       "         1.00000e+00,  4.08000e-02,  5.01000e-02,  6.31000e-01,\n",
       "         4.48000e-01,  6.49000e-01,  1.83254e+02],\n",
       "       [ 6.84000e-01,  6.24000e-01,  1.10000e+01, -7.91400e+00,\n",
       "         0.00000e+00,  6.57000e-02,  1.90000e-01,  1.13000e-04,\n",
       "         5.23000e-02,  9.16000e-01,  1.74617e+02],\n",
       "       [ 3.70000e-01,  9.56000e-01,  9.00000e+00, -8.94400e+00,\n",
       "         1.00000e+00,  8.21000e-02,  4.30000e-04,  3.19000e-02,\n",
       "         3.27000e-01,  2.81000e-01,  1.17027e+02],\n",
       "       [ 5.62000e-01,  4.70000e-01,  9.00000e+00, -1.16600e+01,\n",
       "         1.00000e+00,  2.57000e-02,  6.29000e-01,  4.26000e-03,\n",
       "         1.43000e-01,  1.22000e-01,  9.55950e+01]])"
      ]
     },
     "execution_count": 5,
     "metadata": {},
     "output_type": "execute_result"
    }
   ],
   "source": [
    "featsArray=np.array(featsDFData)\n",
    "featsArray\n"
   ]
  },
  {
   "cell_type": "code",
   "execution_count": 6,
   "metadata": {},
   "outputs": [],
   "source": [
    "from sklearn_som.som import SOM\n",
    "from matplotlib.colors import ListedColormap\n",
    "\n",
    "spotify_som = SOM(m=3, n=1, dim=11)\n",
    "\n",
    "SOMClassification=spotify_som.fit(featsArray)\n",
    "\n",
    "predictions=spotify_som.predict(featsArray)\n",
    "\n",
    "featsLabel=[\"danceability\",\"energy\",\"key\",\"loudness\",\"mode\", \"speechiness\", \"acousticness\",\"instrumentalness\", \"liveness\", \"valence\", \"tempo\"]\n"
   ]
  },
  {
   "cell_type": "code",
   "execution_count": 7,
   "metadata": {},
   "outputs": [
    {
     "data": {
      "text/plain": [
       "Text(0.5, 1.0, 'Classes')"
      ]
     },
     "execution_count": 7,
     "metadata": {},
     "output_type": "execute_result"
    },
    {
     "data": {
      "image/png": "[encoded data removed]",
      "text/plain": [
       "<Figure size 432x288 with 1 Axes>"
      ]
     },
     "metadata": {
      "needs_background": "light"
     },
     "output_type": "display_data"
    }
   ],
   "source": [
    "## Plot the results\n",
    "x = featsArray[:,0]\n",
    "y = featsArray[:,1]\n",
    "colors = ['red', 'green', 'blue']\n",
    "\n",
    "plt.scatter(x, y, c=predictions, cmap=ListedColormap(colors))\n",
    "plt.title('Classes')"
   ]
  },
  {
   "cell_type": "markdown",
   "metadata": {},
   "source": [
    "### PCA - Principal Components Analysis"
   ]
  },
  {
   "cell_type": "code",
   "execution_count": 8,
   "metadata": {},
   "outputs": [
    {
     "name": "stdout",
     "output_type": "stream",
     "text": [
      "[9.80618757e-01 1.13908254e-02 7.59252676e-03 2.27999066e-04\n",
      " 8.81893091e-05 3.85847284e-05 2.07844857e-05 9.99965151e-06\n",
      " 7.76146316e-06 3.53215052e-06 1.03972829e-06]\n"
     ]
    }
   ],
   "source": [
    "from sklearn.decomposition import PCA\n",
    "\n",
    "pca = PCA(n_components=11)\n",
    "pca.fit(featsArray)\n",
    "\n",
    "comp=(1,2,3,4,5,6,7,8,9,10,11)\n",
    "\n",
    "expl_variance=(pca.explained_variance_ratio_)\n",
    "print(expl_variance)\n"
   ]
  },
  {
   "cell_type": "code",
   "execution_count": 9,
   "metadata": {},
   "outputs": [
    {
     "data": {
      "image/png": "[encoded data removed]",
      "text/plain": [
       "<Figure size 432x288 with 1 Axes>"
      ]
     },
     "metadata": {
      "needs_background": "light"
     },
     "output_type": "display_data"
    }
   ],
   "source": [
    "plt.scatter(x=comp, y=expl_variance )\n",
    "plt.plot(comp, expl_variance )\n",
    "plt.title(\"Varianza explicada por cada Componente Principal\")\n",
    "plt.show()"
   ]
  }
 ],
 "metadata": {
  "kernelspec": {
   "display_name": "Python 3 (ipykernel)",
   "language": "python",
   "name": "python3"
  },
  "language_info": {
   "codemirror_mode": {
    "name": "ipython",
    "version": 3
   },
   "file_extension": ".py",
   "mimetype": "text/x-python",
   "name": "python",
   "nbconvert_exporter": "python",
   "pygments_lexer": "ipython3",
   "version": "3.9.7"
  }
 },
 "nbformat": 4,
 "nbformat_minor": 2
}
