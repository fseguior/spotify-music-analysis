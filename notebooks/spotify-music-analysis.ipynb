{
 "cells": [
  {
   "cell_type": "code",
   "execution_count": 1,
   "source": [
    "import pandas as pd\n",
    "import numpy as np\n",
    "import matplotlib.pyplot as plt\n",
    "import spotipy as sp\n",
    "\n",
    "from sklearn.cluster import KMeans\n",
    "from sklearn.cluster import AgglomerativeClustering"
   ],
   "outputs": [],
   "metadata": {}
  },
  {
   "cell_type": "code",
   "execution_count": 2,
   "source": [
    "featsDF=pd.read_csv(\"/app/data/data.csv\")\n",
    "\n",
    "featsDF.head(10)"
   ],
   "outputs": [
    {
     "output_type": "execute_result",
     "data": {
      "text/html": [
       "<div>\n",
       "<style scoped>\n",
       "    .dataframe tbody tr th:only-of-type {\n",
       "        vertical-align: middle;\n",
       "    }\n",
       "\n",
       "    .dataframe tbody tr th {\n",
       "        vertical-align: top;\n",
       "    }\n",
       "\n",
       "    .dataframe thead th {\n",
       "        text-align: right;\n",
       "    }\n",
       "</style>\n",
       "<table border=\"1\" class=\"dataframe\">\n",
       "  <thead>\n",
       "    <tr style=\"text-align: right;\">\n",
       "      <th></th>\n",
       "      <th>danceability</th>\n",
       "      <th>energy</th>\n",
       "      <th>key</th>\n",
       "      <th>loudness</th>\n",
       "      <th>mode</th>\n",
       "      <th>speechiness</th>\n",
       "      <th>acousticness</th>\n",
       "      <th>instrumentalness</th>\n",
       "      <th>liveness</th>\n",
       "      <th>valence</th>\n",
       "      <th>tempo</th>\n",
       "    </tr>\n",
       "  </thead>\n",
       "  <tbody>\n",
       "    <tr>\n",
       "      <th>0</th>\n",
       "      <td>0.658</td>\n",
       "      <td>0.450</td>\n",
       "      <td>7</td>\n",
       "      <td>-13.311</td>\n",
       "      <td>1</td>\n",
       "      <td>0.1930</td>\n",
       "      <td>0.604</td>\n",
       "      <td>0.000244</td>\n",
       "      <td>0.1870</td>\n",
       "      <td>0.7990</td>\n",
       "      <td>143.714</td>\n",
       "    </tr>\n",
       "    <tr>\n",
       "      <th>1</th>\n",
       "      <td>0.683</td>\n",
       "      <td>0.376</td>\n",
       "      <td>4</td>\n",
       "      <td>-13.612</td>\n",
       "      <td>1</td>\n",
       "      <td>0.0574</td>\n",
       "      <td>0.857</td>\n",
       "      <td>0.006670</td>\n",
       "      <td>0.1250</td>\n",
       "      <td>0.4140</td>\n",
       "      <td>116.022</td>\n",
       "    </tr>\n",
       "    <tr>\n",
       "      <th>2</th>\n",
       "      <td>0.511</td>\n",
       "      <td>0.318</td>\n",
       "      <td>10</td>\n",
       "      <td>-13.154</td>\n",
       "      <td>1</td>\n",
       "      <td>0.2010</td>\n",
       "      <td>0.759</td>\n",
       "      <td>0.000209</td>\n",
       "      <td>0.0640</td>\n",
       "      <td>0.3800</td>\n",
       "      <td>175.092</td>\n",
       "    </tr>\n",
       "    <tr>\n",
       "      <th>3</th>\n",
       "      <td>0.463</td>\n",
       "      <td>0.150</td>\n",
       "      <td>4</td>\n",
       "      <td>-14.888</td>\n",
       "      <td>0</td>\n",
       "      <td>0.0423</td>\n",
       "      <td>0.908</td>\n",
       "      <td>0.000016</td>\n",
       "      <td>0.0854</td>\n",
       "      <td>0.3360</td>\n",
       "      <td>169.001</td>\n",
       "    </tr>\n",
       "    <tr>\n",
       "      <th>4</th>\n",
       "      <td>0.485</td>\n",
       "      <td>0.207</td>\n",
       "      <td>4</td>\n",
       "      <td>-12.526</td>\n",
       "      <td>1</td>\n",
       "      <td>0.0416</td>\n",
       "      <td>0.837</td>\n",
       "      <td>0.000582</td>\n",
       "      <td>0.1120</td>\n",
       "      <td>0.2090</td>\n",
       "      <td>144.486</td>\n",
       "    </tr>\n",
       "    <tr>\n",
       "      <th>5</th>\n",
       "      <td>0.618</td>\n",
       "      <td>0.302</td>\n",
       "      <td>7</td>\n",
       "      <td>-17.499</td>\n",
       "      <td>1</td>\n",
       "      <td>0.1670</td>\n",
       "      <td>0.587</td>\n",
       "      <td>0.110000</td>\n",
       "      <td>0.1080</td>\n",
       "      <td>0.1150</td>\n",
       "      <td>84.352</td>\n",
       "    </tr>\n",
       "    <tr>\n",
       "      <th>6</th>\n",
       "      <td>0.595</td>\n",
       "      <td>0.756</td>\n",
       "      <td>3</td>\n",
       "      <td>-7.949</td>\n",
       "      <td>0</td>\n",
       "      <td>0.0434</td>\n",
       "      <td>0.759</td>\n",
       "      <td>0.010500</td>\n",
       "      <td>0.4500</td>\n",
       "      <td>0.5470</td>\n",
       "      <td>106.777</td>\n",
       "    </tr>\n",
       "    <tr>\n",
       "      <th>7</th>\n",
       "      <td>0.593</td>\n",
       "      <td>0.327</td>\n",
       "      <td>6</td>\n",
       "      <td>-12.489</td>\n",
       "      <td>1</td>\n",
       "      <td>0.0729</td>\n",
       "      <td>0.766</td>\n",
       "      <td>0.000060</td>\n",
       "      <td>0.0995</td>\n",
       "      <td>0.3300</td>\n",
       "      <td>143.143</td>\n",
       "    </tr>\n",
       "    <tr>\n",
       "      <th>8</th>\n",
       "      <td>0.550</td>\n",
       "      <td>0.163</td>\n",
       "      <td>11</td>\n",
       "      <td>-17.204</td>\n",
       "      <td>1</td>\n",
       "      <td>0.0533</td>\n",
       "      <td>0.294</td>\n",
       "      <td>0.004920</td>\n",
       "      <td>0.1020</td>\n",
       "      <td>0.0771</td>\n",
       "      <td>138.605</td>\n",
       "    </tr>\n",
       "    <tr>\n",
       "      <th>9</th>\n",
       "      <td>0.626</td>\n",
       "      <td>0.427</td>\n",
       "      <td>4</td>\n",
       "      <td>-10.720</td>\n",
       "      <td>0</td>\n",
       "      <td>0.0596</td>\n",
       "      <td>0.908</td>\n",
       "      <td>0.000006</td>\n",
       "      <td>0.1640</td>\n",
       "      <td>0.5630</td>\n",
       "      <td>116.917</td>\n",
       "    </tr>\n",
       "  </tbody>\n",
       "</table>\n",
       "</div>"
      ],
      "text/plain": [
       "   danceability  energy  key  loudness  mode  speechiness  acousticness  \\\n",
       "0         0.658   0.450    7   -13.311     1       0.1930         0.604   \n",
       "1         0.683   0.376    4   -13.612     1       0.0574         0.857   \n",
       "2         0.511   0.318   10   -13.154     1       0.2010         0.759   \n",
       "3         0.463   0.150    4   -14.888     0       0.0423         0.908   \n",
       "4         0.485   0.207    4   -12.526     1       0.0416         0.837   \n",
       "5         0.618   0.302    7   -17.499     1       0.1670         0.587   \n",
       "6         0.595   0.756    3    -7.949     0       0.0434         0.759   \n",
       "7         0.593   0.327    6   -12.489     1       0.0729         0.766   \n",
       "8         0.550   0.163   11   -17.204     1       0.0533         0.294   \n",
       "9         0.626   0.427    4   -10.720     0       0.0596         0.908   \n",
       "\n",
       "   instrumentalness  liveness  valence    tempo  \n",
       "0          0.000244    0.1870   0.7990  143.714  \n",
       "1          0.006670    0.1250   0.4140  116.022  \n",
       "2          0.000209    0.0640   0.3800  175.092  \n",
       "3          0.000016    0.0854   0.3360  169.001  \n",
       "4          0.000582    0.1120   0.2090  144.486  \n",
       "5          0.110000    0.1080   0.1150   84.352  \n",
       "6          0.010500    0.4500   0.5470  106.777  \n",
       "7          0.000060    0.0995   0.3300  143.143  \n",
       "8          0.004920    0.1020   0.0771  138.605  \n",
       "9          0.000006    0.1640   0.5630  116.917  "
      ]
     },
     "metadata": {},
     "execution_count": 2
    }
   ],
   "metadata": {}
  },
  {
   "cell_type": "markdown",
   "source": [
    "### K Means Clustering"
   ],
   "metadata": {}
  },
  {
   "cell_type": "code",
   "execution_count": 3,
   "source": [
    "featsDFData=featsDF.loc[ : ,featsDF.columns != 'id']\n",
    "\n",
    "kmeans=KMeans(n_clusters=4)\n",
    "model=kmeans.fit(featsDFData)\n",
    "\n",
    "featsDF[\"clusterLabel\"] = model.labels_\n",
    "print(\"Centroides de los clusters\")\n",
    "print(model.cluster_centers_)\n"
   ],
   "outputs": [
    {
     "output_type": "stream",
     "name": "stdout",
     "text": [
      "Centroides de los clusters\n",
      "[[ 5.98307692e-01  4.54538462e-01  5.53846154e+00 -1.15192308e+01\n",
      "   8.46153846e-01  6.28000000e-02  3.92151615e-01  4.59875223e-02\n",
      "   2.01907692e-01  5.01776923e-01  1.41928615e+02]\n",
      " [ 6.44600000e-01  4.69600000e-01  4.40000000e+00 -1.22082000e+01\n",
      "   8.00000000e-01  5.10400000e-02  3.76754000e-01  1.28693010e-02\n",
      "   1.47860000e-01  4.81500000e-01  9.64198000e+01]\n",
      " [ 4.84222222e-01  6.14777778e-01  4.55555556e+00 -9.93800000e+00\n",
      "   7.77777778e-01  7.18888889e-02  2.33833602e-01  9.08997778e-02\n",
      "   1.21744444e-01  6.60111111e-01  1.76761889e+02]\n",
      " [ 6.06055556e-01  5.88722222e-01  4.88888889e+00 -1.03522222e+01\n",
      "   7.77777778e-01  6.35666667e-02  1.95762778e-01  3.03937894e-02\n",
      "   1.60172222e-01  6.26888889e-01  1.21212000e+02]]\n"
     ]
    }
   ],
   "metadata": {}
  },
  {
   "cell_type": "code",
   "execution_count": 4,
   "source": [
    "plt.scatter(featsDFData[\"acousticness\"], featsDFData[\"instrumentalness\"], c=featsDF[\"clusterLabel\"])\n",
    "plt.title(\"Acousticness vs Instrumentalness - Clusters K Means\")"
   ],
   "outputs": [
    {
     "output_type": "execute_result",
     "data": {
      "text/plain": [
       "Text(0.5, 1.0, 'Acousticness vs Instrumentalness - Clusters K Means')"
      ]
     },
     "metadata": {},
     "execution_count": 4
    },
    {
     "output_type": "display_data",
     "data": {
      "image/png": "[encoded data removed]",
      "text/plain": [
       "<Figure size 432x288 with 1 Axes>"
      ]
     },
     "metadata": {
      "needs_background": "light"
     }
    }
   ],
   "metadata": {}
  },
  {
   "cell_type": "markdown",
   "source": [
    "### Self Organizing Maps"
   ],
   "metadata": {}
  },
  {
   "cell_type": "code",
   "execution_count": 5,
   "source": [
    "featsArray=np.array(featsDFData)\n",
    "featsArray\n"
   ],
   "outputs": [
    {
     "output_type": "execute_result",
     "data": {
      "text/plain": [
       "array([[ 6.58000e-01,  4.50000e-01,  7.00000e+00, -1.33110e+01,\n",
       "         1.00000e+00,  1.93000e-01,  6.04000e-01,  2.44000e-04,\n",
       "         1.87000e-01,  7.99000e-01,  1.43714e+02],\n",
       "       [ 6.83000e-01,  3.76000e-01,  4.00000e+00, -1.36120e+01,\n",
       "         1.00000e+00,  5.74000e-02,  8.57000e-01,  6.67000e-03,\n",
       "         1.25000e-01,  4.14000e-01,  1.16022e+02],\n",
       "       [ 5.11000e-01,  3.18000e-01,  1.00000e+01, -1.31540e+01,\n",
       "         1.00000e+00,  2.01000e-01,  7.59000e-01,  2.09000e-04,\n",
       "         6.40000e-02,  3.80000e-01,  1.75092e+02],\n",
       "       [ 4.63000e-01,  1.50000e-01,  4.00000e+00, -1.48880e+01,\n",
       "         0.00000e+00,  4.23000e-02,  9.08000e-01,  1.60000e-05,\n",
       "         8.54000e-02,  3.36000e-01,  1.69001e+02],\n",
       "       [ 4.85000e-01,  2.07000e-01,  4.00000e+00, -1.25260e+01,\n",
       "         1.00000e+00,  4.16000e-02,  8.37000e-01,  5.82000e-04,\n",
       "         1.12000e-01,  2.09000e-01,  1.44486e+02],\n",
       "       [ 6.18000e-01,  3.02000e-01,  7.00000e+00, -1.74990e+01,\n",
       "         1.00000e+00,  1.67000e-01,  5.87000e-01,  1.10000e-01,\n",
       "         1.08000e-01,  1.15000e-01,  8.43520e+01],\n",
       "       [ 5.95000e-01,  7.56000e-01,  3.00000e+00, -7.94900e+00,\n",
       "         0.00000e+00,  4.34000e-02,  7.59000e-01,  1.05000e-02,\n",
       "         4.50000e-01,  5.47000e-01,  1.06777e+02],\n",
       "       [ 5.93000e-01,  3.27000e-01,  6.00000e+00, -1.24890e+01,\n",
       "         1.00000e+00,  7.29000e-02,  7.66000e-01,  6.02000e-05,\n",
       "         9.95000e-02,  3.30000e-01,  1.43143e+02],\n",
       "       [ 5.50000e-01,  1.63000e-01,  1.10000e+01, -1.72040e+01,\n",
       "         1.00000e+00,  5.33000e-02,  2.94000e-01,  4.92000e-03,\n",
       "         1.02000e-01,  7.71000e-02,  1.38605e+02],\n",
       "       [ 6.26000e-01,  4.27000e-01,  4.00000e+00, -1.07200e+01,\n",
       "         0.00000e+00,  5.96000e-02,  9.08000e-01,  5.71000e-06,\n",
       "         1.64000e-01,  5.63000e-01,  1.16917e+02],\n",
       "       [ 5.46000e-01,  2.85000e-01,  6.00000e+00, -1.27630e+01,\n",
       "         1.00000e+00,  4.38000e-02,  7.73000e-01,  4.09000e-06,\n",
       "         8.63000e-02,  3.32000e-01,  1.41402e+02],\n",
       "       [ 7.28000e-01,  6.21000e-01,  6.00000e+00, -1.19220e+01,\n",
       "         1.00000e+00,  1.69000e-01,  1.79000e-01,  1.12000e-04,\n",
       "         6.27000e-02,  4.90000e-01,  1.16300e+02],\n",
       "       [ 5.59000e-01,  2.20000e-01,  8.00000e+00, -1.31950e+01,\n",
       "         1.00000e+00,  5.07000e-02,  7.23000e-01,  1.13000e-04,\n",
       "         1.71000e-01,  3.23000e-01,  1.42351e+02],\n",
       "       [ 5.86000e-01,  2.96000e-01,  4.00000e+00, -1.28720e+01,\n",
       "         1.00000e+00,  9.31000e-02,  8.07000e-01,  1.46000e-02,\n",
       "         1.10000e-01,  3.43000e-01,  1.45329e+02],\n",
       "       [ 5.57000e-01,  1.58000e-01,  0.00000e+00, -1.59040e+01,\n",
       "         1.00000e+00,  4.38000e-02,  6.50000e-01,  1.56000e-03,\n",
       "         9.87000e-02,  1.85000e-01,  9.60850e+01],\n",
       "       [ 5.63000e-01,  7.05000e-01,  2.00000e+00, -9.23200e+00,\n",
       "         1.00000e+00,  1.03000e-01,  1.03000e-02,  0.00000e+00,\n",
       "         5.52000e-02,  8.22000e-01,  1.76732e+02],\n",
       "       [ 4.92000e-01,  7.55000e-01,  9.00000e+00, -9.27300e+00,\n",
       "         1.00000e+00,  3.31000e-02,  7.48000e-03,  0.00000e+00,\n",
       "         1.02000e-01,  7.96000e-01,  1.27387e+02],\n",
       "       [ 5.52000e-01,  4.87000e-01,  6.00000e+00, -1.05740e+01,\n",
       "         0.00000e+00,  4.00000e-02,  1.75000e-02,  0.00000e+00,\n",
       "         1.05000e-01,  6.57000e-01,  1.27201e+02],\n",
       "       [ 6.88000e-01,  4.35000e-01,  9.00000e+00, -1.13590e+01,\n",
       "         1.00000e+00,  3.23000e-02,  4.49000e-01,  0.00000e+00,\n",
       "         1.13000e-01,  4.35000e-01,  1.03239e+02],\n",
       "       [ 6.67000e-01,  4.98000e-01,  1.00000e+00, -1.10270e+01,\n",
       "         1.00000e+00,  3.64000e-02,  7.72000e-03,  0.00000e+00,\n",
       "         4.81000e-02,  7.74000e-01,  8.58430e+01],\n",
       "       [ 6.99000e-01,  2.94000e-01,  5.00000e+00, -1.32050e+01,\n",
       "         0.00000e+00,  2.94000e-02,  5.87000e-01,  0.00000e+00,\n",
       "         1.17000e-01,  8.93000e-01,  9.66150e+01],\n",
       "       [ 6.70000e-01,  7.76000e-01,  4.00000e+00, -1.00350e+01,\n",
       "         1.00000e+00,  7.49000e-02,  1.68000e-02,  3.01000e-06,\n",
       "         7.32000e-02,  7.65000e-01,  9.69300e+01],\n",
       "       [ 5.78000e-01,  2.90000e-01,  5.00000e+00, -1.25010e+01,\n",
       "         0.00000e+00,  3.41000e-02,  6.52000e-01,  0.00000e+00,\n",
       "         1.05000e-01,  6.66000e-01,  1.17403e+02],\n",
       "       [ 5.90000e-01,  6.41000e-01,  0.00000e+00, -9.68700e+00,\n",
       "         1.00000e+00,  4.16000e-02,  6.82000e-03,  0.00000e+00,\n",
       "         5.53000e-02,  7.92000e-01,  1.20773e+02],\n",
       "       [ 5.29000e-01,  5.67000e-01,  0.00000e+00, -9.79600e+00,\n",
       "         1.00000e+00,  2.82000e-02,  1.24000e-02,  0.00000e+00,\n",
       "         7.29000e-02,  7.99000e-01,  1.30544e+02],\n",
       "       [ 5.34000e-01,  6.24000e-01,  4.00000e+00, -9.58900e+00,\n",
       "         1.00000e+00,  4.62000e-02,  7.97000e-03,  0.00000e+00,\n",
       "         1.28000e-01,  6.87000e-01,  1.21402e+02],\n",
       "       [ 4.88000e-01,  5.39000e-01,  9.00000e+00, -8.75200e+00,\n",
       "         1.00000e+00,  3.04000e-02,  1.36000e-01,  0.00000e+00,\n",
       "         5.38000e-02,  4.73000e-01,  1.15941e+02],\n",
       "       [ 4.25000e-01,  3.69000e-01,  4.00000e+00, -1.18760e+01,\n",
       "         1.00000e+00,  3.79000e-02,  1.83000e-01,  1.26000e-03,\n",
       "         1.12000e-01,  6.50000e-01,  1.76625e+02],\n",
       "       [ 7.54000e-01,  5.71000e-01,  2.00000e+00, -8.54700e+00,\n",
       "         1.00000e+00,  4.21000e-02,  1.73000e-02,  0.00000e+00,\n",
       "         3.00000e-01,  8.20000e-01,  1.22463e+02],\n",
       "       [ 7.12000e-01,  6.90000e-01,  9.00000e+00, -1.05120e+01,\n",
       "         1.00000e+00,  8.04000e-02,  4.80000e-02,  3.03000e-01,\n",
       "         1.19000e-01,  4.63000e-01,  1.18388e+02],\n",
       "       [ 7.64000e-01,  6.41000e-01,  2.00000e+00, -1.15380e+01,\n",
       "         1.00000e+00,  7.10000e-02,  1.01000e-01,  3.67000e-04,\n",
       "         8.24000e-02,  5.81000e-01,  1.18728e+02],\n",
       "       [ 7.44000e-01,  5.49000e-01,  4.00000e+00, -1.41250e+01,\n",
       "         1.00000e+00,  2.71000e-02,  7.84000e-02,  2.37000e-03,\n",
       "         8.86000e-02,  3.51000e-01,  9.70820e+01],\n",
       "       [ 4.39000e-01,  9.08000e-01,  2.00000e+00, -8.18200e+00,\n",
       "         1.00000e+00,  4.08000e-02,  5.01000e-02,  6.31000e-01,\n",
       "         4.48000e-01,  6.49000e-01,  1.83254e+02],\n",
       "       [ 6.84000e-01,  6.24000e-01,  1.10000e+01, -7.91400e+00,\n",
       "         0.00000e+00,  6.57000e-02,  1.90000e-01,  1.13000e-04,\n",
       "         5.23000e-02,  9.16000e-01,  1.74617e+02],\n",
       "       [ 3.70000e-01,  9.56000e-01,  9.00000e+00, -8.94400e+00,\n",
       "         1.00000e+00,  8.21000e-02,  4.30000e-04,  3.19000e-02,\n",
       "         3.27000e-01,  2.81000e-01,  1.17027e+02],\n",
       "       [ 5.62000e-01,  4.70000e-01,  9.00000e+00, -1.16600e+01,\n",
       "         1.00000e+00,  2.57000e-02,  6.29000e-01,  4.26000e-03,\n",
       "         1.43000e-01,  1.22000e-01,  9.55950e+01],\n",
       "       [ 7.44000e-01,  5.69000e-01,  4.00000e+00, -1.32240e+01,\n",
       "         1.00000e+00,  4.07000e-02,  5.30000e-03,  2.22000e-02,\n",
       "         1.04000e-01,  9.11000e-01,  1.37104e+02],\n",
       "       [ 6.40000e-01,  6.29000e-01,  4.00000e+00, -8.94800e+00,\n",
       "         1.00000e+00,  7.24000e-02,  2.94000e-03,  0.00000e+00,\n",
       "         1.54000e-01,  9.69000e-01,  1.19646e+02],\n",
       "       [ 7.38000e-01,  5.07000e-01,  6.00000e+00, -1.14560e+01,\n",
       "         0.00000e+00,  4.66000e-02,  2.15000e-03,  3.93000e-01,\n",
       "         1.25000e-01,  5.89000e-01,  1.33759e+02],\n",
       "       [ 5.21000e-01,  8.06000e-01,  4.00000e+00, -7.83800e+00,\n",
       "         1.00000e+00,  6.38000e-02,  1.89000e-04,  1.50000e-01,\n",
       "         9.98000e-02,  6.61000e-01,  1.74136e+02],\n",
       "       [ 7.70000e-01,  7.18000e-01,  6.00000e+00, -8.45500e+00,\n",
       "         0.00000e+00,  1.16000e-01,  8.19000e-03,  1.85000e-05,\n",
       "         1.13000e-01,  8.31000e-01,  1.24588e+02],\n",
       "       [ 1.92000e-01,  8.94000e-01,  2.00000e+00, -7.13600e+00,\n",
       "         1.00000e+00,  4.21000e-02,  3.42000e-06,  2.80000e-03,\n",
       "         2.50000e-02,  6.70000e-01,  1.94458e+02],\n",
       "       [ 6.46000e-01,  4.58000e-01,  2.00000e+00, -9.31900e+00,\n",
       "         1.00000e+00,  3.04000e-02,  3.62000e-03,  0.00000e+00,\n",
       "         2.39000e-01,  6.28000e-01,  1.01680e+02],\n",
       "       [ 5.60000e-01,  7.59000e-01,  2.00000e+00, -9.22200e+00,\n",
       "         1.00000e+00,  5.04000e-02,  3.91000e-03,  3.27000e-02,\n",
       "         1.54000e-01,  8.57000e-01,  1.66942e+02],\n",
       "       [ 6.89000e-01,  6.74000e-01,  1.00000e+00, -9.65300e+00,\n",
       "         1.00000e+00,  7.59000e-02,  3.21000e-04,  2.69000e-02,\n",
       "         2.10000e-01,  5.23000e-01,  1.49266e+02],\n",
       "       [ 3.68000e-01,  6.61000e-01,  7.00000e+00, -8.83300e+00,\n",
       "         1.00000e+00,  3.38000e-02,  1.13000e-01,  1.35000e-01,\n",
       "         4.81000e-01,  4.75000e-01,  1.40586e+02],\n",
       "       [ 4.82000e-01,  3.77000e-01,  9.00000e+00, -1.56040e+01,\n",
       "         1.00000e+00,  4.86000e-02,  5.28000e-01,  1.50000e-05,\n",
       "         2.58000e-01,  3.39000e-01,  1.25093e+02],\n",
       "       [ 7.59000e-01,  8.24000e-01,  6.00000e+00, -5.42800e+00,\n",
       "         0.00000e+00,  3.53000e-02,  1.50000e-01,  1.94000e-04,\n",
       "         4.57000e-01,  9.60000e-01,  1.37270e+02],\n",
       "       [ 5.03000e-01,  7.26000e-01,  2.00000e+00, -6.79600e+00,\n",
       "         1.00000e+00,  3.57000e-02,  2.32000e-02,  2.05000e-05,\n",
       "         3.80000e-01,  6.52000e-01,  1.48057e+02],\n",
       "       [ 6.17000e-01,  6.88000e-01,  0.00000e+00, -7.36600e+00,\n",
       "         1.00000e+00,  9.20000e-02,  3.37000e-02,  2.05000e-01,\n",
       "         5.56000e-01,  6.63000e-01,  1.25993e+02]])"
      ]
     },
     "metadata": {},
     "execution_count": 5
    }
   ],
   "metadata": {}
  },
  {
   "cell_type": "code",
   "execution_count": 6,
   "source": [
    "from sklearn_som.som import SOM\n",
    "from matplotlib.colors import ListedColormap\n"
   ],
   "outputs": [],
   "metadata": {}
  },
  {
   "cell_type": "code",
   "execution_count": 7,
   "source": [
    "\n",
    "spotify_som = SOM(m=3, n=1, dim=11)\n",
    "\n",
    "SOMClassification=spotify_som.fit(featsArray)\n",
    "\n",
    "predictions=spotify_som.predict(featsArray)\n",
    "\n",
    "featsLabel=[\"danceability\",\"energy\",\"key\",\"loudness\",\"mode\", \"speechiness\", \"acousticness\",\"instrumentalness\", \"liveness\", \"valence\", \"tempo\"]\n",
    "\n",
    "\n"
   ],
   "outputs": [],
   "metadata": {}
  },
  {
   "cell_type": "code",
   "execution_count": 8,
   "source": [
    "\n",
    "## Plot the results\n",
    "x = featsArray[:,0]\n",
    "y = featsArray[:,1]\n",
    "colors = ['red', 'green', 'blue']\n",
    "\n",
    "plt.scatter(x, y, c=predictions, cmap=ListedColormap(colors))\n",
    "plt.title('Classes')"
   ],
   "outputs": [
    {
     "output_type": "execute_result",
     "data": {
      "text/plain": [
       "Text(0.5, 1.0, 'Classes')"
      ]
     },
     "metadata": {},
     "execution_count": 8
    },
    {
     "output_type": "display_data",
     "data": {
      "image/png": "[encoded data removed]",
      "text/plain": [
       "<Figure size 432x288 with 1 Axes>"
      ]
     },
     "metadata": {
      "needs_background": "light"
     }
    }
   ],
   "metadata": {}
  },
  {
   "cell_type": "markdown",
   "source": [
    "### PCA - Principal Components Analysis"
   ],
   "metadata": {}
  },
  {
   "cell_type": "code",
   "execution_count": 9,
   "source": [
    "from sklearn.decomposition import PCA"
   ],
   "outputs": [],
   "metadata": {}
  },
  {
   "cell_type": "code",
   "execution_count": 10,
   "source": [
    "pca = PCA(n_components=11)\n",
    "pca.fit(featsArray)\n",
    "\n",
    "\n",
    "expl_variance=(pca.explained_variance_ratio_)\n",
    "\n",
    "comp=(1,2,3,4,5,6,7,8,9,10,11)\n"
   ],
   "outputs": [],
   "metadata": {}
  },
  {
   "cell_type": "code",
   "execution_count": 11,
   "source": [
    "plt.scatter(x=comp, y=expl_variance )\n",
    "plt.plot(comp, expl_variance )\n",
    "plt.title(\"Varianza explicada por cada Componente Principal\")\n",
    "plt.show()"
   ],
   "outputs": [
    {
     "output_type": "display_data",
     "data": {
      "image/png": "[encoded data removed]",
      "text/plain": [
       "<Figure size 432x288 with 1 Axes>"
      ]
     },
     "metadata": {
      "needs_background": "light"
     }
    }
   ],
   "metadata": {}
  }
 ],
 "metadata": {
  "kernelspec": {
   "display_name": "Python 3 (ipykernel)",
   "language": "python",
   "name": "python3"
  },
  "language_info": {
   "codemirror_mode": {
    "name": "ipython",
    "version": 3
   },
   "file_extension": ".py",
   "mimetype": "text/x-python",
   "name": "python",
   "nbconvert_exporter": "python",
   "pygments_lexer": "ipython3",
   "version": "3.9.7"
  }
 },
 "nbformat": 4,
 "nbformat_minor": 2
}